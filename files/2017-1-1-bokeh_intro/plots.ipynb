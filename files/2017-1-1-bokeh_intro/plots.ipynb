{
 "cells": [
  {
   "cell_type": "markdown",
   "metadata": {},
   "source": [
    "## Imports"
   ]
  },
  {
   "cell_type": "code",
   "execution_count": null,
   "metadata": {
    "collapsed": false
   },
   "outputs": [],
   "source": [
    "import csv\n",
    "\n",
    "import numpy as np\n",
    "import numpy.random\n",
    "\n",
    "import bokeh.plotting\n",
    "import bokeh.layouts\n",
    "import bokeh.embed"
   ]
  },
  {
   "cell_type": "markdown",
   "metadata": {},
   "source": [
    "## Temperature and CO$_{2}$"
   ]
  },
  {
   "cell_type": "markdown",
   "metadata": {},
   "source": [
    "### File io & data loading"
   ]
  },
  {
   "cell_type": "markdown",
   "metadata": {},
   "source": [
    "#### Temp"
   ]
  },
  {
   "cell_type": "code",
   "execution_count": null,
   "metadata": {
    "collapsed": false
   },
   "outputs": [],
   "source": [
    "temp_file_path = './temp'\n",
    "temp_file_handle = open(temp_file_path, 'r')\n",
    "temp_file_reader = csv.reader(temp_file_handle, delimiter = ' ')\n",
    "\n",
    "temp_years = []\n",
    "temp_temps = []\n",
    "for i, row in enumerate(temp_file_reader):\n",
    "    temp_years.append(row[0])\n",
    "    temp_temps.append(row[1])"
   ]
  },
  {
   "cell_type": "markdown",
   "metadata": {},
   "source": [
    "#### CO$_{2}$"
   ]
  },
  {
   "cell_type": "code",
   "execution_count": null,
   "metadata": {
    "collapsed": false
   },
   "outputs": [],
   "source": [
    "co2_file_path = './co2'\n",
    "co2_file_handle = open(co2_file_path, 'r')\n",
    "co2_file_reader = csv.reader(co2_file_handle, delimiter = ' ')\n",
    "\n",
    "co2_years = []\n",
    "co2_co2s = []\n",
    "for i, row in enumerate(co2_file_reader):\n",
    "    row = [ele for ele in row if ele != '']\n",
    "    if row[3] != '-99.99':\n",
    "        co2_years.append(row[2])\n",
    "        co2_co2s.append(row[3])"
   ]
  },
  {
   "cell_type": "markdown",
   "metadata": {},
   "source": [
    "### Create interactive plot"
   ]
  },
  {
   "cell_type": "code",
   "execution_count": null,
   "metadata": {
    "collapsed": false
   },
   "outputs": [],
   "source": [
    "# Create static html file as output\n",
    "bokeh.plotting.output_file('temp_co2.html', title = 'NASA historical temperature and CO2 annual mean records')\n",
    "\n",
    "# Create the two figures\n",
    "temp_figure = bokeh.plotting.figure(title = 'temperature', x_axis_label='year', y_axis_label = 'avg temp anomaly (deg C)', width = 500, height = 250)\n",
    "\n",
    "co2_figure = bokeh.plotting.figure(title = 'co2', x_axis_label = 'year', y_axis_label = 'avg conc. co2 (ppm)', width = 500, height = 250, x_range = temp_figure.x_range)\n",
    "\n",
    "\n",
    "# Plot in the two figures\n",
    "temp_figure.line(temp_years, temp_temps, legend = 'temp', line_width=2)\n",
    "co2_figure.line(co2_years, co2_co2s, legend = 'co2')\n",
    "\n",
    "# Create the combined figure\n",
    "figure = bokeh.layouts.column(temp_figure, co2_figure)\n",
    "\n",
    "# Display results\n",
    "bokeh.plotting.show(figure)\n",
    "\n",
    "# Save results\n",
    "bokeh.plotting.save(figure, './co2_temp.html')"
   ]
  },
  {
   "cell_type": "markdown",
   "metadata": {},
   "source": [
    "## Scatter"
   ]
  },
  {
   "cell_type": "markdown",
   "metadata": {},
   "source": [
    "### Create data"
   ]
  },
  {
   "cell_type": "code",
   "execution_count": null,
   "metadata": {
    "collapsed": false
   },
   "outputs": [],
   "source": [
    "# Cluster one\n",
    "mu_one = [1, 1]\n",
    "covar_one = np.array([[1,.9],[.9,1]])\n",
    "cluster_one = numpy.random.multivariate_normal(mu_one, covar_one, 200)\n",
    "\n",
    "# Cluster two\n",
    "mu_two = [-5,-4]\n",
    "covar_two = np.array([[4,1], [1,4]])\n",
    "cluster_two = numpy.random.multivariate_normal(mu_two, covar_two, 300)\n",
    "\n",
    "# Cluster three\n",
    "mu_three = [5,-3]\n",
    "covar_three = np.array([[2,1.5], [1.5,2]])\n",
    "cluster_three = numpy.random.multivariate_normal(mu_three, covar_three, 100)\n",
    "\n",
    "# X Histogram\n",
    "data_x = np.concatenate((cluster_one[:,0], cluster_two[:,0], cluster_three[:,0]), axis = 0)\n",
    "vals_x, edges_x = np.histogram(data_x, bins = 10)\n",
    "\n",
    "data_y = np.concatenate((cluster_one[:,1], cluster_two[:,1], cluster_three[:,1]), axis = 0)\n",
    "vals_y, edges_y = np.histogram(data_y, bins = 10)"
   ]
  },
  {
   "cell_type": "markdown",
   "metadata": {},
   "source": [
    "### Create interactive plot"
   ]
  },
  {
   "cell_type": "code",
   "execution_count": null,
   "metadata": {
    "collapsed": false
   },
   "outputs": [],
   "source": [
    "bokeh.plotting.output_file('scatter_plot.html', title = 'Bivariate gaussians')\n",
    "\n",
    "##############\n",
    "# Scatter plot\n",
    "##############\n",
    "\n",
    "scatter_figure = bokeh.plotting.figure(plot_width = 320, plot_height = 320,\\\n",
    "                                       tools = \"pan,wheel_zoom,box_select,lasso_select,reset\", title = 'Bivariate Gaussians')\n",
    "\n",
    "# Cluster one\n",
    "scatter_figure.circle(x = cluster_one[:,0], y = cluster_one[:,1], color = 'red', size = 3)\n",
    "\n",
    "# Cluster two\n",
    "scatter_figure.circle(x = cluster_two[:,0], y = cluster_two[:,1], color = 'blue', size = 3)\n",
    "\n",
    "# Cluster three\n",
    "scatter_figure.circle(x = cluster_three[:,0], y = cluster_three[:,1], color = 'green', size = 3)\n",
    "\n",
    "###############\n",
    "# Histogram\n",
    "###############\n",
    "\n",
    "x_histogram_figure = bokeh.plotting.figure(toolbar_location = None, plot_width = scatter_figure.plot_width, plot_height = 200, x_range=scatter_figure.x_range,\\\n",
    "                            min_border = 10, y_axis_location = 'right')\n",
    "\n",
    "y_histogram_figure = bokeh.plotting.figure(toolbar_location = None, plot_width = 200, plot_height = scatter_figure.plot_height, y_range = scatter_figure.y_range,\\\n",
    "                                          min_border = 10, x_axis_location = 'above', x_range = (vals_y.min(), vals_y.max()))\n",
    "\n",
    "# x- Histogram\n",
    "x_histogram = x_histogram_figure.quad(top = vals_x, bottom = 0, left = edges_x[:-1], right = edges_x[1:], fill_color = '#c8c8c8', line_color = '#727272')\n",
    "\n",
    "# y- Histogram\n",
    "y_histogram = y_histogram_figure.quad(top = edges_y[:-1], bottom = edges_y[1:], left = 0, right = vals_y, fill_color = '#c8c8c8', line_color = '#727272')\n",
    "\n",
    "\n",
    "figure = bokeh.layouts.column(bokeh.layouts.row(scatter_figure, y_histogram_figure),                   bokeh.layouts.row(x_histogram_figure, bokeh.layouts.Spacer(width=200, height=200)))\n",
    "\n",
    "# Display the figure\n",
    "bokeh.plotting.show(figure)\n",
    "\n",
    "# Save figure\n",
    "bokeh.plotting.save(figure, './scatterplot.html')"
   ]
  }
 ],
 "metadata": {
  "kernelspec": {
   "display_name": "Python 2",
   "language": "python",
   "name": "python2"
  },
  "language_info": {
   "codemirror_mode": {
    "name": "ipython",
    "version": 2
   },
   "file_extension": ".py",
   "mimetype": "text/x-python",
   "name": "python",
   "nbconvert_exporter": "python",
   "pygments_lexer": "ipython2",
   "version": "2.7.11"
  }
 },
 "nbformat": 4,
 "nbformat_minor": 0
}
