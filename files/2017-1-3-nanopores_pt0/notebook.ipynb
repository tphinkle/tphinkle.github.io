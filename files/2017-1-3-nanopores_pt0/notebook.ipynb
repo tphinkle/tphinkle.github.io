{
 "cells": [
  {
   "cell_type": "markdown",
   "metadata": {},
   "source": [
    "# Includes"
   ]
  },
  {
   "cell_type": "code",
   "execution_count": 1,
   "metadata": {
    "collapsed": true
   },
   "outputs": [],
   "source": [
    "import numpy as np\n",
    "import matplotlib.pyplot as plt\n",
    "%matplotlib inline"
   ]
  },
  {
   "cell_type": "markdown",
   "metadata": {},
   "source": [
    "# Constants"
   ]
  },
  {
   "cell_type": "code",
   "execution_count": 44,
   "metadata": {
    "collapsed": true
   },
   "outputs": [],
   "source": [
    "title_size = 24\n",
    "axislabel_size = 24\n",
    "axistick_size = 20\n",
    "legendlabel_size = 16"
   ]
  },
  {
   "cell_type": "markdown",
   "metadata": {},
   "source": [
    "# Surface area-to-volume plot"
   ]
  },
  {
   "cell_type": "markdown",
   "metadata": {},
   "source": [
    "### Constants"
   ]
  },
  {
   "cell_type": "code",
   "execution_count": 56,
   "metadata": {
    "collapsed": true
   },
   "outputs": [],
   "source": [
    "pi = 3.14159\n",
    "um = 1e-6            # micrometer\n",
    "nm = 1e-9            # nanometer\n",
    "\n",
    "lam = 1*nm           # Debye length"
   ]
  },
  {
   "cell_type": "markdown",
   "metadata": {},
   "source": [
    "### Calculate"
   ]
  },
  {
   "cell_type": "code",
   "execution_count": 57,
   "metadata": {
    "collapsed": false
   },
   "outputs": [],
   "source": [
    "rs = [1*nm, 3*nm, 10*nm, 30*nm, 100*nm, 300*nm, 1000*nm, 3000*nm]\n",
    "ratios = [(r**2-(r-lam)**2)/(r**2) for r in rs]"
   ]
  },
  {
   "cell_type": "markdown",
   "metadata": {},
   "source": [
    "### Plot"
   ]
  },
  {
   "cell_type": "code",
   "execution_count": 60,
   "metadata": {
    "collapsed": false
   },
   "outputs": [
    {
     "name": "stderr",
     "output_type": "stream",
     "text": [
      "/home/preston/anaconda3/envs/py27/lib/python2.7/site-packages/matplotlib/figure.py:1744: UserWarning: This figure includes Axes that are not compatible with tight_layout, so its results might be incorrect.\n",
      "  warnings.warn(\"This figure includes Axes that are not \"\n"
     ]
    },
    {
     "data": {
      "image/png": "[encoded data removed]",
      "text/plain": [
       "<matplotlib.figure.Figure at 0x7f89a2d1f850>"
      ]
     },
     "metadata": {},
     "output_type": "display_data"
    }
   ],
   "source": [
    "fig = plt.figure(figsize = (8,6), tight_layout = True)\n",
    "\n",
    "plt.semilogx(rs, ratios, lw = 3, c = 'gray', zorder = 3)\n",
    "plt.semilogx([.1*nm,1], [0,0], lw = 3, c = 'black', ls = '--', zorder = 2)\n",
    "\n",
    "plt.xlim(min(rs), max(rs))\n",
    "plt.ylim(-0.05, 1.0)\n",
    "\n",
    "\n",
    "plt.title('Fractional volume inside EDL for cyl. pore', size = title_size)\n",
    "plt.xlabel('Pore radius (nm)', size = axislabel_size)\n",
    "plt.ylabel('Fraction', size = axislabel_size)\n",
    "\n",
    "ax = plt.gca()\n",
    "ax.set_xticklabels(['', '1', '10', '100', '1000'])\n",
    "ax.set_yticklabels(['', '0.0', '0.2', '0.4', '0.6', '0.8', '1.0'])\n",
    "plt.tick_params(labelsize = axistick_size, direction = 'out', pad = 15)\n",
    "plt.grid()\n",
    "\n",
    "plt.savefig('fractional_volume.png', dpi = 300)\n",
    "\n",
    "plt.show()"
   ]
  },
  {
   "cell_type": "code",
   "execution_count": null,
   "metadata": {
    "collapsed": true
   },
   "outputs": [],
   "source": []
  }
 ],
 "metadata": {
  "kernelspec": {
   "display_name": "Python 2",
   "language": "python",
   "name": "python2"
  },
  "language_info": {
   "codemirror_mode": {
    "name": "ipython",
    "version": 2
   },
   "file_extension": ".py",
   "mimetype": "text/x-python",
   "name": "python",
   "nbconvert_exporter": "python",
   "pygments_lexer": "ipython2",
   "version": "2.7.11"
  }
 },
 "nbformat": 4,
 "nbformat_minor": 0
}
